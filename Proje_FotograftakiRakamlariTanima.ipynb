{
 "cells": [
  {
   "cell_type": "code",
   "execution_count": null,
   "id": "94c60f44",
   "metadata": {},
   "outputs": [],
   "source": [
    "import pandas as pd\n",
    "from matplotlib import pyplot as plt\n",
    "from sklearn.preprocessing import StandardScaler\n",
    "from sklearn.decomposition import PCA\n",
    "from sklearn.datasets import fetch_openml  \n",
    "from sklearn.linear_model import LogisticRegression\n",
    "from sklearn.model_selection import train_test_split\n",
    "\n",
    "mnist = fetch_openml('mnist_784')"
   ]
  },
  {
   "cell_type": "code",
   "execution_count": null,
   "id": "b997e898",
   "metadata": {},
   "outputs": [],
   "source": [
    "mnist.data.shape\n"
   ]
  },
  {
   "cell_type": "code",
   "execution_count": null,
   "id": "dd117cf6",
   "metadata": {},
   "outputs": [],
   "source": [
    "def showimage(dframe, index):    \n",
    "    some_digit = dframe.to_numpy()[index]\n",
    "    some_digit_image = some_digit.reshape(28,28)\n",
    "\n",
    "    plt.imshow(some_digit_image,cmap=\"binary\")\n",
    "    plt.axis(\"off\")\n",
    "    plt.show()"
   ]
  },
  {
   "cell_type": "code",
   "execution_count": null,
   "id": "7d60d25d",
   "metadata": {},
   "outputs": [],
   "source": [
    "showimage(mnist.data, 0)"
   ]
  },
  {
   "cell_type": "code",
   "execution_count": null,
   "id": "e7198fb4",
   "metadata": {},
   "outputs": [],
   "source": [
    "train_img, test_img, train_lbl, test_lbl = train_test_split( mnist.data, mnist.target, test_size=1/7.0, random_state=0)"
   ]
  },
  {
   "cell_type": "code",
   "execution_count": null,
   "id": "7bce83b2",
   "metadata": {},
   "outputs": [],
   "source": [
    "type(train_img)"
   ]
  },
  {
   "cell_type": "code",
   "execution_count": null,
   "id": "86c0040b",
   "metadata": {},
   "outputs": [],
   "source": [
    "test_img_copy = test_img.copy()"
   ]
  },
  {
   "cell_type": "code",
   "execution_count": null,
   "id": "0077dd01",
   "metadata": {},
   "outputs": [],
   "source": [
    "showimage(test_img_copy, 2)"
   ]
  },
  {
   "cell_type": "code",
   "execution_count": null,
   "id": "770df8d0",
   "metadata": {},
   "outputs": [],
   "source": [
    "scaler = StandardScaler()\n",
    "scaler.fit(train_img)\n",
    "\n",
    "train_img = scaler.transform(train_img)\n",
    "test_img = scaler.transform(test_img)"
   ]
  },
  {
   "cell_type": "code",
   "execution_count": null,
   "id": "16cdd679",
   "metadata": {},
   "outputs": [],
   "source": [
    "pca = PCA(.95)"
   ]
  },
  {
   "cell_type": "code",
   "execution_count": null,
   "id": "39c29090",
   "metadata": {},
   "outputs": [],
   "source": [
    "pca.fit(train_img)"
   ]
  },
  {
   "cell_type": "code",
   "execution_count": null,
   "id": "101db2f1",
   "metadata": {},
   "outputs": [],
   "source": [
    "print(pca.n_components_)"
   ]
  },
  {
   "cell_type": "code",
   "execution_count": null,
   "id": "b924057d",
   "metadata": {},
   "outputs": [],
   "source": [
    "train_img = pca.transform(train_img)\n",
    "test_img = pca.transform(test_img)"
   ]
  },
  {
   "cell_type": "code",
   "execution_count": null,
   "id": "ea4106cf",
   "metadata": {},
   "outputs": [],
   "source": [
    "logisticRegr = LogisticRegression(solver = 'lbfgs', max_iter=10000)"
   ]
  },
  {
   "cell_type": "code",
   "execution_count": null,
   "id": "ee86acc3",
   "metadata": {},
   "outputs": [],
   "source": [
    "logisticRegr.fit(train_img, train_lbl)"
   ]
  },
  {
   "cell_type": "code",
   "execution_count": null,
   "id": "c1ae7036",
   "metadata": {},
   "outputs": [],
   "source": [
    "logisticRegr.predict(test_img[0].reshape(1,-1))"
   ]
  },
  {
   "cell_type": "code",
   "execution_count": null,
   "id": "3b18aabb",
   "metadata": {},
   "outputs": [],
   "source": [
    "showimage(test_img_copy, 0)"
   ]
  },
  {
   "cell_type": "code",
   "execution_count": null,
   "id": "12dda22a",
   "metadata": {},
   "outputs": [],
   "source": [
    "logisticRegr.score(test_img, test_lbl)"
   ]
  }
 ],
 "metadata": {
  "kernelspec": {
   "display_name": "Python 3 (ipykernel)",
   "language": "python",
   "name": "python3"
  },
  "language_info": {
   "codemirror_mode": {
    "name": "ipython",
    "version": 3
   },
   "file_extension": ".py",
   "mimetype": "text/x-python",
   "name": "python",
   "nbconvert_exporter": "python",
   "pygments_lexer": "ipython3",
   "version": "3.7.13"
  }
 },
 "nbformat": 4,
 "nbformat_minor": 5
}
